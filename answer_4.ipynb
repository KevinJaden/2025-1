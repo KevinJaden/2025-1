{
 "cells": [
  {
   "cell_type": "markdown",
   "id": "40a0dcb0",
   "metadata": {},
   "source": [
    "## 问题4是比较开放的题目，设计再增加五次实验，从仅有的少数的次数获得尽可能多的信息量，让信息价值最大化"
   ]
  },
  {
   "cell_type": "markdown",
   "id": "d6fed01e",
   "metadata": {},
   "source": [
    "### 其中我觉得应该设计一点，也就是找到在350度以下最优催化剂组合，因为化工医药生产需要注意成本，温度在高于常温的情况下温度越低成本越低。"
   ]
  },
  {
   "cell_type": "markdown",
   "id": "8cff7dd8",
   "metadata": {},
   "source": [
    "### 五次实验两次全局，三次350°C以下"
   ]
  },
  {
   "cell_type": "markdown",
   "id": "dcd14953",
   "metadata": {},
   "source": [
    "##### 算了不想写代码了，直接长篇大论分析得了"
   ]
  }
 ],
 "metadata": {
  "language_info": {
   "name": "python"
  }
 },
 "nbformat": 4,
 "nbformat_minor": 5
}
